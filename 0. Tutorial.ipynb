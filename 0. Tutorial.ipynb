{
 "cells": [
  {
   "cell_type": "markdown",
   "id": "boxed-jamaica",
   "metadata": {
    "id": "boxed-jamaica"
   },
   "source": [
    "# 안녕하세요:)\n",
    "\n",
    "## '서울시 생활정보 기반 대중교통 수요 분석 ' 과정에 오신 여러분을 환영합니다.\n",
    "* 본 과정에서는 서울시 생활정보 데이터를 기반으로 데이터 분석을 시도하고 주어진 문제를 해결할 것입니다.\n",
    "\n",
    "* 우리는 공공 데이터를 활용해 버스 수요 관련 인사이트를 도출하여 버스 노선 또는 정류장이 더 필요한 구를 선정 하고자 합니다."
   ]
  },
  {
   "cell_type": "markdown",
   "id": "46fa690c",
   "metadata": {
    "id": "46fa690c"
   },
   "source": [
    "# 0. 튜토리얼 진행 하겠습니다.\n",
    "\n",
    "## 지금부터 우리가 진행할 프로젝트에 대해 살펴 보겠습니다.\n",
    "    \n",
    "- 프로젝트를 진행하면서 무엇을 하고 있는지, 왜 하는지에 대해서 한번 생각 해보실 수 있는 시간이었으면 합니다.\n",
    "    \n",
    "- 정답이 있는 프로젝트가 아닙니다. 어떤 결과를 도출하셔도 좋습니다. \n",
    "\n",
    "- 모두가 끝까지 할 수 있도록 차근차근 가겠습니다."
   ]
  },
  {
   "cell_type": "markdown",
   "id": "warming-gentleman",
   "metadata": {
    "id": "warming-gentleman"
   },
   "source": [
    "#  1. 데이터 불러오기\n",
    "## 모두 4개의 데이터가 주어집니다.\n",
    "+ 버스 정류장 데이터 **\n",
    "\n",
    "+ 유동 인구 데이터 **\n",
    "\n",
    "+ 주민 등록 데이터 \n",
    "\n",
    "+ 업종 등록 데이터\n",
    "\n",
    "## 버스정류장 데이터** 와 유동인구 데이터** 를 메인으로 진행합니다.\n",
    "\n",
    "+ 주민 등록 데이터와 업종 등록 데이터는 '추가 데이터'로 사용 여부 선택 가능합니다.\n"
   ]
  },
  {
   "cell_type": "markdown",
   "id": "vocational-animal",
   "metadata": {
    "id": "vocational-animal"
   },
   "source": [
    "## 데이터 하나만 열어보고 갈게요 - 주민 등록 데이터\n",
    "\n",
    "* rawdata 폴더에 있는 '1.3 seoul_people.csv'파일을 'seoul_people' 변수에 저장하세요.\n",
    "    * 데이터 파일 로딩시 참고 사항 \n",
    "        * 구분자(sep)는 '\\t' 입니다\n",
    "        * 'cp949' 인코더를 사용해 주세요"
   ]
  },
  {
   "cell_type": "code",
   "execution_count": 37,
   "id": "tNZcoLOyrkV7",
   "metadata": {
    "executionInfo": {
     "elapsed": 945,
     "status": "ok",
     "timestamp": 1665735359032,
     "user": {
      "displayName": "Hojun Lee",
      "userId": "14713924399124402560"
     },
     "user_tz": -540
    },
    "id": "tNZcoLOyrkV7"
   },
   "outputs": [],
   "source": [
    "import pandas as pd\n",
    "\n",
    "seoul_people = pd.read_csv('./1.3 seoul_people.csv', sep=\"\\t\", encoding = \"cp949\", header = 2)"
   ]
  },
  {
   "cell_type": "markdown",
   "id": "a3f5bc29",
   "metadata": {
    "id": "a3f5bc29"
   },
   "source": [
    "# 2. 데이터 확인하기\n",
    "## 데이터의 상태를 정확히 파악한 뒤, 분석하기 용이한 형태로 전처리 해봅시다.\n",
    "+ KeyPoint : 데이터를 확인하고 잘못된 자료들을 수정할 수 있다.\n",
    "  * 데이터 확인\n",
    "  * 관측치들의 패턴 탐색\n",
    "  * 잘못된 자료들을 탐색"
   ]
  },
  {
   "cell_type": "code",
   "execution_count": 38,
   "id": "p7U4e8WiF9SI",
   "metadata": {
    "colab": {
     "base_uri": "https://localhost:8080/",
     "height": 337
    },
    "executionInfo": {
     "elapsed": 18,
     "status": "ok",
     "timestamp": 1665735442725,
     "user": {
      "displayName": "Hojun Lee",
      "userId": "14713924399124402560"
     },
     "user_tz": -540
    },
    "id": "p7U4e8WiF9SI",
    "outputId": "3c9cc3e3-bba9-4ed5-a5be-f2817f5476ac"
   },
   "outputs": [
    {
     "data": {
      "text/html": [
       "<div>\n",
       "<style scoped>\n",
       "    .dataframe tbody tr th:only-of-type {\n",
       "        vertical-align: middle;\n",
       "    }\n",
       "\n",
       "    .dataframe tbody tr th {\n",
       "        vertical-align: top;\n",
       "    }\n",
       "\n",
       "    .dataframe thead th {\n",
       "        text-align: right;\n",
       "    }\n",
       "</style>\n",
       "<table border=\"1\" class=\"dataframe\">\n",
       "  <thead>\n",
       "    <tr style=\"text-align: right;\">\n",
       "      <th></th>\n",
       "      <th>기간</th>\n",
       "      <th>자치구</th>\n",
       "      <th>세대</th>\n",
       "      <th>계</th>\n",
       "      <th>남자</th>\n",
       "      <th>여자</th>\n",
       "      <th>계.1</th>\n",
       "      <th>남자.1</th>\n",
       "      <th>여자.1</th>\n",
       "      <th>계.2</th>\n",
       "      <th>남자.2</th>\n",
       "      <th>여자.2</th>\n",
       "      <th>세대당인구</th>\n",
       "      <th>65세이상고령자</th>\n",
       "    </tr>\n",
       "  </thead>\n",
       "  <tbody>\n",
       "    <tr>\n",
       "      <th>0</th>\n",
       "      <td>2022.1/4</td>\n",
       "      <td>합계</td>\n",
       "      <td>4451444</td>\n",
       "      <td>9732617</td>\n",
       "      <td>4716704</td>\n",
       "      <td>5015913</td>\n",
       "      <td>9506778</td>\n",
       "      <td>4613910</td>\n",
       "      <td>4892868</td>\n",
       "      <td>225839</td>\n",
       "      <td>102794</td>\n",
       "      <td>123045</td>\n",
       "      <td>2.14</td>\n",
       "      <td>1628980</td>\n",
       "    </tr>\n",
       "    <tr>\n",
       "      <th>1</th>\n",
       "      <td>2022.1/4</td>\n",
       "      <td>종로구</td>\n",
       "      <td>73766</td>\n",
       "      <td>153684</td>\n",
       "      <td>74018</td>\n",
       "      <td>79666</td>\n",
       "      <td>144275</td>\n",
       "      <td>69911</td>\n",
       "      <td>74364</td>\n",
       "      <td>9409</td>\n",
       "      <td>4107</td>\n",
       "      <td>5302</td>\n",
       "      <td>1.96</td>\n",
       "      <td>28064</td>\n",
       "    </tr>\n",
       "    <tr>\n",
       "      <th>2</th>\n",
       "      <td>2022.1/4</td>\n",
       "      <td>중구</td>\n",
       "      <td>63767</td>\n",
       "      <td>131450</td>\n",
       "      <td>63869</td>\n",
       "      <td>67581</td>\n",
       "      <td>122173</td>\n",
       "      <td>59448</td>\n",
       "      <td>62725</td>\n",
       "      <td>9277</td>\n",
       "      <td>4421</td>\n",
       "      <td>4856</td>\n",
       "      <td>1.92</td>\n",
       "      <td>24742</td>\n",
       "    </tr>\n",
       "    <tr>\n",
       "      <th>3</th>\n",
       "      <td>2022.1/4</td>\n",
       "      <td>용산구</td>\n",
       "      <td>111207</td>\n",
       "      <td>236518</td>\n",
       "      <td>114571</td>\n",
       "      <td>121947</td>\n",
       "      <td>222169</td>\n",
       "      <td>106735</td>\n",
       "      <td>115434</td>\n",
       "      <td>14349</td>\n",
       "      <td>7836</td>\n",
       "      <td>6513</td>\n",
       "      <td>2.00</td>\n",
       "      <td>39461</td>\n",
       "    </tr>\n",
       "    <tr>\n",
       "      <th>4</th>\n",
       "      <td>2022.1/4</td>\n",
       "      <td>성동구</td>\n",
       "      <td>134533</td>\n",
       "      <td>291609</td>\n",
       "      <td>141662</td>\n",
       "      <td>149947</td>\n",
       "      <td>285073</td>\n",
       "      <td>138847</td>\n",
       "      <td>146226</td>\n",
       "      <td>6536</td>\n",
       "      <td>2815</td>\n",
       "      <td>3721</td>\n",
       "      <td>2.12</td>\n",
       "      <td>46896</td>\n",
       "    </tr>\n",
       "  </tbody>\n",
       "</table>\n",
       "</div>"
      ],
      "text/plain": [
       "         기간  자치구       세대        계       남자       여자      계.1     남자.1  \\\n",
       "0  2022.1/4   합계  4451444  9732617  4716704  5015913  9506778  4613910   \n",
       "1  2022.1/4  종로구    73766   153684    74018    79666   144275    69911   \n",
       "2  2022.1/4   중구    63767   131450    63869    67581   122173    59448   \n",
       "3  2022.1/4  용산구   111207   236518   114571   121947   222169   106735   \n",
       "4  2022.1/4  성동구   134533   291609   141662   149947   285073   138847   \n",
       "\n",
       "      여자.1     계.2    남자.2    여자.2  세대당인구  65세이상고령자  \n",
       "0  4892868  225839  102794  123045   2.14   1628980  \n",
       "1    74364    9409    4107    5302   1.96     28064  \n",
       "2    62725    9277    4421    4856   1.92     24742  \n",
       "3   115434   14349    7836    6513   2.00     39461  \n",
       "4   146226    6536    2815    3721   2.12     46896  "
      ]
     },
     "execution_count": 38,
     "metadata": {},
     "output_type": "execute_result"
    }
   ],
   "source": [
    "seoul_people.head()"
   ]
  },
  {
   "cell_type": "code",
   "execution_count": 39,
   "id": "0bd3116a",
   "metadata": {},
   "outputs": [
    {
     "name": "stdout",
     "output_type": "stream",
     "text": [
      "<class 'pandas.core.frame.DataFrame'>\n",
      "RangeIndex: 26 entries, 0 to 25\n",
      "Data columns (total 14 columns):\n",
      " #   Column    Non-Null Count  Dtype  \n",
      "---  ------    --------------  -----  \n",
      " 0   기간        26 non-null     object \n",
      " 1   자치구       26 non-null     object \n",
      " 2   세대        26 non-null     int64  \n",
      " 3   계         26 non-null     int64  \n",
      " 4   남자        26 non-null     int64  \n",
      " 5   여자        26 non-null     int64  \n",
      " 6   계.1       26 non-null     int64  \n",
      " 7   남자.1      26 non-null     int64  \n",
      " 8   여자.1      26 non-null     int64  \n",
      " 9   계.2       26 non-null     int64  \n",
      " 10  남자.2      26 non-null     int64  \n",
      " 11  여자.2      26 non-null     int64  \n",
      " 12  세대당인구     26 non-null     float64\n",
      " 13  65세이상고령자  26 non-null     int64  \n",
      "dtypes: float64(1), int64(11), object(2)\n",
      "memory usage: 3.0+ KB\n"
     ]
    }
   ],
   "source": [
    "seoul_people.info()"
   ]
  },
  {
   "cell_type": "markdown",
   "id": "47779f9f",
   "metadata": {
    "id": "47779f9f"
   },
   "source": [
    "## 답이 정해져 있는 프로젝트가 아닙니다 \n",
    "\n",
    "+ 저는 여기서 인구 합계와 남자, 여자 수만 가져가는데요, 여기서 다른 포인트를 잡아보는 것도 색다른 분석이 될 수 있습니다\n",
    "\n",
    "+ 65세 이상 인구의 이동시 주로 이용하는 교통 수단이 뭘까요?\n",
    "\n",
    "+ '세대당 인구'나 '등록 외국인의 수'에서 얻어낼 수 있는 인사이트가 있을까요?"
   ]
  },
  {
   "cell_type": "code",
   "execution_count": 40,
   "id": "SjhCC60AF9Pt",
   "metadata": {
    "colab": {
     "base_uri": "https://localhost:8080/",
     "height": 833
    },
    "executionInfo": {
     "elapsed": 577,
     "status": "ok",
     "timestamp": 1665735518671,
     "user": {
      "displayName": "Hojun Lee",
      "userId": "14713924399124402560"
     },
     "user_tz": -540
    },
    "id": "SjhCC60AF9Pt",
    "outputId": "205e2020-158c-42a5-e733-4b09e02569f3"
   },
   "outputs": [
    {
     "data": {
      "text/html": [
       "<div>\n",
       "<style scoped>\n",
       "    .dataframe tbody tr th:only-of-type {\n",
       "        vertical-align: middle;\n",
       "    }\n",
       "\n",
       "    .dataframe tbody tr th {\n",
       "        vertical-align: top;\n",
       "    }\n",
       "\n",
       "    .dataframe thead th {\n",
       "        text-align: right;\n",
       "    }\n",
       "</style>\n",
       "<table border=\"1\" class=\"dataframe\">\n",
       "  <thead>\n",
       "    <tr style=\"text-align: right;\">\n",
       "      <th></th>\n",
       "      <th>자치구</th>\n",
       "      <th>남자</th>\n",
       "      <th>여자</th>\n",
       "      <th>계</th>\n",
       "    </tr>\n",
       "  </thead>\n",
       "  <tbody>\n",
       "    <tr>\n",
       "      <th>1</th>\n",
       "      <td>종로구</td>\n",
       "      <td>74018</td>\n",
       "      <td>79666</td>\n",
       "      <td>153684</td>\n",
       "    </tr>\n",
       "    <tr>\n",
       "      <th>2</th>\n",
       "      <td>중구</td>\n",
       "      <td>63869</td>\n",
       "      <td>67581</td>\n",
       "      <td>131450</td>\n",
       "    </tr>\n",
       "    <tr>\n",
       "      <th>3</th>\n",
       "      <td>용산구</td>\n",
       "      <td>114571</td>\n",
       "      <td>121947</td>\n",
       "      <td>236518</td>\n",
       "    </tr>\n",
       "    <tr>\n",
       "      <th>4</th>\n",
       "      <td>성동구</td>\n",
       "      <td>141662</td>\n",
       "      <td>149947</td>\n",
       "      <td>291609</td>\n",
       "    </tr>\n",
       "    <tr>\n",
       "      <th>5</th>\n",
       "      <td>광진구</td>\n",
       "      <td>169525</td>\n",
       "      <td>183585</td>\n",
       "      <td>353110</td>\n",
       "    </tr>\n",
       "    <tr>\n",
       "      <th>6</th>\n",
       "      <td>동대문구</td>\n",
       "      <td>172318</td>\n",
       "      <td>180274</td>\n",
       "      <td>352592</td>\n",
       "    </tr>\n",
       "    <tr>\n",
       "      <th>7</th>\n",
       "      <td>중랑구</td>\n",
       "      <td>193623</td>\n",
       "      <td>199977</td>\n",
       "      <td>393600</td>\n",
       "    </tr>\n",
       "    <tr>\n",
       "      <th>8</th>\n",
       "      <td>성북구</td>\n",
       "      <td>212277</td>\n",
       "      <td>230403</td>\n",
       "      <td>442680</td>\n",
       "    </tr>\n",
       "    <tr>\n",
       "      <th>9</th>\n",
       "      <td>강북구</td>\n",
       "      <td>145934</td>\n",
       "      <td>154890</td>\n",
       "      <td>300824</td>\n",
       "    </tr>\n",
       "    <tr>\n",
       "      <th>10</th>\n",
       "      <td>도봉구</td>\n",
       "      <td>154440</td>\n",
       "      <td>163660</td>\n",
       "      <td>318100</td>\n",
       "    </tr>\n",
       "    <tr>\n",
       "      <th>11</th>\n",
       "      <td>노원구</td>\n",
       "      <td>247417</td>\n",
       "      <td>267028</td>\n",
       "      <td>514445</td>\n",
       "    </tr>\n",
       "    <tr>\n",
       "      <th>12</th>\n",
       "      <td>은평구</td>\n",
       "      <td>227172</td>\n",
       "      <td>248841</td>\n",
       "      <td>476013</td>\n",
       "    </tr>\n",
       "    <tr>\n",
       "      <th>13</th>\n",
       "      <td>서대문구</td>\n",
       "      <td>149805</td>\n",
       "      <td>167270</td>\n",
       "      <td>317075</td>\n",
       "    </tr>\n",
       "    <tr>\n",
       "      <th>14</th>\n",
       "      <td>마포구</td>\n",
       "      <td>176886</td>\n",
       "      <td>201743</td>\n",
       "      <td>378629</td>\n",
       "    </tr>\n",
       "    <tr>\n",
       "      <th>15</th>\n",
       "      <td>양천구</td>\n",
       "      <td>219882</td>\n",
       "      <td>229496</td>\n",
       "      <td>449378</td>\n",
       "    </tr>\n",
       "    <tr>\n",
       "      <th>16</th>\n",
       "      <td>강서구</td>\n",
       "      <td>277797</td>\n",
       "      <td>300629</td>\n",
       "      <td>578426</td>\n",
       "    </tr>\n",
       "    <tr>\n",
       "      <th>17</th>\n",
       "      <td>구로구</td>\n",
       "      <td>208027</td>\n",
       "      <td>211957</td>\n",
       "      <td>419984</td>\n",
       "    </tr>\n",
       "    <tr>\n",
       "      <th>18</th>\n",
       "      <td>금천구</td>\n",
       "      <td>123959</td>\n",
       "      <td>120942</td>\n",
       "      <td>244901</td>\n",
       "    </tr>\n",
       "    <tr>\n",
       "      <th>19</th>\n",
       "      <td>영등포구</td>\n",
       "      <td>198080</td>\n",
       "      <td>202161</td>\n",
       "      <td>400241</td>\n",
       "    </tr>\n",
       "    <tr>\n",
       "      <th>20</th>\n",
       "      <td>동작구</td>\n",
       "      <td>190377</td>\n",
       "      <td>204272</td>\n",
       "      <td>394649</td>\n",
       "    </tr>\n",
       "    <tr>\n",
       "      <th>21</th>\n",
       "      <td>관악구</td>\n",
       "      <td>250450</td>\n",
       "      <td>249886</td>\n",
       "      <td>500336</td>\n",
       "    </tr>\n",
       "    <tr>\n",
       "      <th>22</th>\n",
       "      <td>서초구</td>\n",
       "      <td>197665</td>\n",
       "      <td>216012</td>\n",
       "      <td>413677</td>\n",
       "    </tr>\n",
       "    <tr>\n",
       "      <th>23</th>\n",
       "      <td>강남구</td>\n",
       "      <td>257096</td>\n",
       "      <td>280242</td>\n",
       "      <td>537338</td>\n",
       "    </tr>\n",
       "    <tr>\n",
       "      <th>24</th>\n",
       "      <td>송파구</td>\n",
       "      <td>321963</td>\n",
       "      <td>346298</td>\n",
       "      <td>668261</td>\n",
       "    </tr>\n",
       "    <tr>\n",
       "      <th>25</th>\n",
       "      <td>강동구</td>\n",
       "      <td>227891</td>\n",
       "      <td>237206</td>\n",
       "      <td>465097</td>\n",
       "    </tr>\n",
       "  </tbody>\n",
       "</table>\n",
       "</div>"
      ],
      "text/plain": [
       "     자치구      남자      여자       계\n",
       "1    종로구   74018   79666  153684\n",
       "2     중구   63869   67581  131450\n",
       "3    용산구  114571  121947  236518\n",
       "4    성동구  141662  149947  291609\n",
       "5    광진구  169525  183585  353110\n",
       "6   동대문구  172318  180274  352592\n",
       "7    중랑구  193623  199977  393600\n",
       "8    성북구  212277  230403  442680\n",
       "9    강북구  145934  154890  300824\n",
       "10   도봉구  154440  163660  318100\n",
       "11   노원구  247417  267028  514445\n",
       "12   은평구  227172  248841  476013\n",
       "13  서대문구  149805  167270  317075\n",
       "14   마포구  176886  201743  378629\n",
       "15   양천구  219882  229496  449378\n",
       "16   강서구  277797  300629  578426\n",
       "17   구로구  208027  211957  419984\n",
       "18   금천구  123959  120942  244901\n",
       "19  영등포구  198080  202161  400241\n",
       "20   동작구  190377  204272  394649\n",
       "21   관악구  250450  249886  500336\n",
       "22   서초구  197665  216012  413677\n",
       "23   강남구  257096  280242  537338\n",
       "24   송파구  321963  346298  668261\n",
       "25   강동구  227891  237206  465097"
      ]
     },
     "execution_count": 40,
     "metadata": {},
     "output_type": "execute_result"
    }
   ],
   "source": [
    "#서울시 지역구별 남자, 여자 인구 추출\n",
    "seoul_people = seoul_people[['자치구','남자','여자','계']]\n",
    "seoul_people = seoul_people.drop(0)\n",
    "seoul_people"
   ]
  },
  {
   "cell_type": "markdown",
   "id": "southeast-integration",
   "metadata": {
    "id": "southeast-integration"
   },
   "source": [
    "# 3. 데이터 분석하기\n",
    "## 최적의 모델을 만들기위해 데이터를 입체적으로 바라보는 시도는 중요합니다.\n",
    "+ KeyPoint : 데이터의 형태를 살펴보고 다양한 분석기법을 통해 모델링에 적합하도록 정제요소를 선별할 수 있다.\n",
    "  * 관측치들의 패턴 탐색\n",
    "  * 잘못된 자료들을 탐색\n",
    "  * 변수들간의 관계 파악"
   ]
  },
  {
   "cell_type": "markdown",
   "id": "92bda7ce",
   "metadata": {
    "id": "92bda7ce"
   },
   "source": [
    "## 우리는 시각화를 통해서 데이터를 분석할 예정입니다.\n",
    "+ 데이터 시각화(data visualization)는 데이터 분석 결과를 쉽게 이해할 수 있도록 시각적으로 표현하고 전달되는 과정을 말한다. 데이터 시각화의 목적은 도표(graph)라는 수단을 통해 정보를 명확하고 효과적으로 전달하는 것이다.(위키백과)\n",
    "\n",
    "+ 튜토리얼에서는 따로 그리는 시간을 가지진 않습니다만 프로젝트 진행시엔 많은 시도 부탁드립니다."
   ]
  },
  {
   "cell_type": "code",
   "execution_count": 41,
   "id": "194ae01d",
   "metadata": {
    "executionInfo": {
     "elapsed": 357,
     "status": "ok",
     "timestamp": 1665735543955,
     "user": {
      "displayName": "Hojun Lee",
      "userId": "14713924399124402560"
     },
     "user_tz": -540
    },
    "id": "194ae01d"
   },
   "outputs": [],
   "source": [
    "# 시각화, 한글폰트 설정\n",
    "import seaborn as sns\n",
    "import matplotlib.pyplot as plt\n",
    "\n",
    "plt.rc('font', family='AppleGothic')\n",
    "sns.set(font='AppleGothic', \n",
    "        rc={\"axes.unicode_minus\":False}, # 마이너스 부호 깨짐 현상 해결\n",
    "        style='darkgrid')"
   ]
  },
  {
   "cell_type": "markdown",
   "id": "7ac18101",
   "metadata": {
    "id": "7ac18101"
   },
   "source": [
    "### Seaborn을 활용한 데이터 시각화\n",
    "#### Seaborn 라이브러리는 데이터를 직관적으로 볼 수 있도록 다양한 지원을 해주고 있습니다.\n",
    "#### 여기서는 Seaborn이 제공하는 통계차트 중 대표적인 몇 가지를 활용해보고자 합니다.\n",
    "[참고] 공식 Document\n",
    "* Seaborn(https://seaborn.pydata.org/api.html)\n",
    "* Seaborn.CountChart(https://seaborn.pydata.org/generated/seaborn.countplot.html)\n",
    "* Seaborn.Distplot(https://seaborn.pydata.org/generated/seaborn.distplot.html?highlight=distplot#seaborn.distplot) : 히스토그램 + 커널밀도\n",
    "* Seaborn.Boxplot(https://seaborn.pydata.org/generated/seaborn.boxplot.html#seaborn.boxplot)\n",
    "* Seaborn.Heatmap(https://seaborn.pydata.org/generated/seaborn.heatmap.html?highlight=heatmap#seaborn.heatmap)\n",
    "* Seaborn.Pairplot(https://seaborn.pydata.org/generated/seaborn.pairplot.html?highlight=pairplot#seaborn.pairplot) : 조합별 히스토그램 + 산점도"
   ]
  },
  {
   "cell_type": "code",
   "execution_count": 42,
   "id": "2a610ade",
   "metadata": {
    "executionInfo": {
     "elapsed": 9,
     "status": "ok",
     "timestamp": 1665735548274,
     "user": {
      "displayName": "Hojun Lee",
      "userId": "14713924399124402560"
     },
     "user_tz": -540
    },
    "id": "2a610ade",
    "scrolled": false
   },
   "outputs": [],
   "source": [
    "# 남자 비율\n",
    "seoul_people[\"남자비율\"] = seoul_people['남자'] / seoul_people[\"계\"]"
   ]
  },
  {
   "cell_type": "code",
   "execution_count": 43,
   "id": "lfrg30IaEjF6",
   "metadata": {
    "colab": {
     "base_uri": "https://localhost:8080/",
     "height": 1000
    },
    "executionInfo": {
     "elapsed": 1168,
     "status": "ok",
     "timestamp": 1665735556485,
     "user": {
      "displayName": "Hojun Lee",
      "userId": "14713924399124402560"
     },
     "user_tz": -540
    },
    "id": "lfrg30IaEjF6",
    "outputId": "1a1596e9-6c49-42e3-9301-db984f7b8d50",
    "scrolled": false
   },
   "outputs": [
    {
     "data": {
      "text/plain": [
       "[<matplotlib.lines.Line2D at 0x7fd3a0125fd0>]"
      ]
     },
     "execution_count": 43,
     "metadata": {},
     "output_type": "execute_result"
    },
    {
     "data": {
      "image/png": "[encoded data removed]",
      "text/plain": [
       "<Figure size 2000x400 with 1 Axes>"
      ]
     },
     "metadata": {},
     "output_type": "display_data"
    }
   ],
   "source": [
    "# 자치구별 남성 비율 시각화\n",
    "plt.figure(figsize=(20,4))\n",
    "plt.plot('자치구', '남자비율', data = seoul_people)\n"
   ]
  },
  {
   "cell_type": "code",
   "execution_count": 45,
   "id": "dbadc42e",
   "metadata": {
    "id": "dbadc42e"
   },
   "outputs": [
    {
     "name": "stderr",
     "output_type": "stream",
     "text": [
      "/Users/kimboseong/opt/anaconda3/lib/python3.9/site-packages/seaborn/_oldcore.py:1498: FutureWarning: is_categorical_dtype is deprecated and will be removed in a future version. Use isinstance(dtype, CategoricalDtype) instead\n",
      "  if pd.api.types.is_categorical_dtype(vector):\n",
      "/Users/kimboseong/opt/anaconda3/lib/python3.9/site-packages/seaborn/_oldcore.py:1119: FutureWarning: use_inf_as_na option is deprecated and will be removed in a future version. Convert inf values to NaN before operating instead.\n",
      "  with pd.option_context('mode.use_inf_as_na', True):\n"
     ]
    },
    {
     "data": {
      "text/plain": [
       "<seaborn.axisgrid.FacetGrid at 0x7fd3ca4e1a90>"
      ]
     },
     "execution_count": 45,
     "metadata": {},
     "output_type": "execute_result"
    },
    {
     "data": {
      "image/png": "[encoded data removed]",
      "text/plain": [
       "<Figure size 500x500 with 1 Axes>"
      ]
     },
     "metadata": {},
     "output_type": "display_data"
    }
   ],
   "source": [
    "# 남자 비율 count\n",
    "sns.displot(seoul_people['남자비율'])"
   ]
  },
  {
   "cell_type": "markdown",
   "id": "activated-constraint",
   "metadata": {
    "id": "activated-constraint"
   },
   "source": [
    "### 상관관계 분석(Pandas/Seaborn)\n",
    "#### 상관관계 분석은 왜 하는것일까요? 변수 간 관계를 들여다보기 위해서!\n",
    "#### 막연하게 상관관계는 높으면 좋을 것 같습니다. 하지만 AI모델링 또는 통계분석에서 꼭 좋은 것은 아닙니다. \n",
    "+ 가령 살아온 날수와 식사를 한 끼니 수는 강한 상관관계를 가질 것입니다. 그러나 조금만 다르게 보면 둘은 같은 이야기를 하는 것이라고 할 수 있습니다."
   ]
  },
  {
   "cell_type": "code",
   "execution_count": 46,
   "id": "5342a5d1",
   "metadata": {},
   "outputs": [
    {
     "name": "stdout",
     "output_type": "stream",
     "text": [
      "Requirement already satisfied: scipy in /Users/kimboseong/opt/anaconda3/lib/python3.9/site-packages (1.11.2)\n",
      "Requirement already satisfied: numpy<1.28.0,>=1.21.6 in /Users/kimboseong/opt/anaconda3/lib/python3.9/site-packages (from scipy) (1.26.0)\n"
     ]
    }
   ],
   "source": [
    "!pip install scipy"
   ]
  },
  {
   "cell_type": "code",
   "execution_count": 47,
   "id": "voluntary-belief",
   "metadata": {
    "colab": {
     "base_uri": "https://localhost:8080/"
    },
    "executionInfo": {
     "elapsed": 538,
     "status": "ok",
     "timestamp": 1665735640654,
     "user": {
      "displayName": "Hojun Lee",
      "userId": "14713924399124402560"
     },
     "user_tz": -540
    },
    "id": "voluntary-belief",
    "outputId": "7afe2889-0358-4be3-d9d0-30050446e725"
   },
   "outputs": [
    {
     "data": {
      "text/plain": [
       "PearsonRResult(statistic=0.9985458891660375, pvalue=1.1092314895165646e-30)"
      ]
     },
     "execution_count": 47,
     "metadata": {},
     "output_type": "execute_result"
    }
   ],
   "source": [
    "# 아래에 실습코드를 작성하고 상관계수를 확인합니다.\n",
    "import scipy.stats as spst\n",
    "spst.pearsonr(seoul_people['남자'],seoul_people['계'])"
   ]
  },
  {
   "cell_type": "code",
   "execution_count": 50,
   "id": "1c301fa7",
   "metadata": {
    "colab": {
     "base_uri": "https://localhost:8080/",
     "height": 175
    },
    "executionInfo": {
     "elapsed": 16,
     "status": "ok",
     "timestamp": 1665735642878,
     "user": {
      "displayName": "Hojun Lee",
      "userId": "14713924399124402560"
     },
     "user_tz": -540
    },
    "id": "1c301fa7",
    "outputId": "5df0c6ad-7cad-4347-e7c0-df09fa7f0dcd"
   },
   "outputs": [
    {
     "data": {
      "text/html": [
       "<div>\n",
       "<style scoped>\n",
       "    .dataframe tbody tr th:only-of-type {\n",
       "        vertical-align: middle;\n",
       "    }\n",
       "\n",
       "    .dataframe tbody tr th {\n",
       "        vertical-align: top;\n",
       "    }\n",
       "\n",
       "    .dataframe thead th {\n",
       "        text-align: right;\n",
       "    }\n",
       "</style>\n",
       "<table border=\"1\" class=\"dataframe\">\n",
       "  <thead>\n",
       "    <tr style=\"text-align: right;\">\n",
       "      <th></th>\n",
       "      <th>남자</th>\n",
       "      <th>여자</th>\n",
       "      <th>계</th>\n",
       "      <th>남자비율</th>\n",
       "    </tr>\n",
       "  </thead>\n",
       "  <tbody>\n",
       "    <tr>\n",
       "      <th>남자</th>\n",
       "      <td>1.000000</td>\n",
       "      <td>0.994596</td>\n",
       "      <td>0.998546</td>\n",
       "      <td>-0.063461</td>\n",
       "    </tr>\n",
       "    <tr>\n",
       "      <th>여자</th>\n",
       "      <td>0.994596</td>\n",
       "      <td>1.000000</td>\n",
       "      <td>0.998747</td>\n",
       "      <td>-0.163345</td>\n",
       "    </tr>\n",
       "    <tr>\n",
       "      <th>계</th>\n",
       "      <td>0.998546</td>\n",
       "      <td>0.998747</td>\n",
       "      <td>1.000000</td>\n",
       "      <td>-0.115413</td>\n",
       "    </tr>\n",
       "    <tr>\n",
       "      <th>남자비율</th>\n",
       "      <td>-0.063461</td>\n",
       "      <td>-0.163345</td>\n",
       "      <td>-0.115413</td>\n",
       "      <td>1.000000</td>\n",
       "    </tr>\n",
       "  </tbody>\n",
       "</table>\n",
       "</div>"
      ],
      "text/plain": [
       "            남자        여자         계      남자비율\n",
       "남자    1.000000  0.994596  0.998546 -0.063461\n",
       "여자    0.994596  1.000000  0.998747 -0.163345\n",
       "계     0.998546  0.998747  1.000000 -0.115413\n",
       "남자비율 -0.063461 -0.163345 -0.115413  1.000000"
      ]
     },
     "execution_count": 50,
     "metadata": {},
     "output_type": "execute_result"
    }
   ],
   "source": [
    "# 아래에 실습코드를 작성하고 상관계수를 확인합니다.\n",
    "seoul_people = seoul_people.drop('자치구', axis=1)\n",
    "seoul_people.corr()"
   ]
  },
  {
   "cell_type": "code",
   "execution_count": null,
   "id": "popular-signal",
   "metadata": {
    "id": "popular-signal"
   },
   "outputs": [],
   "source": [
    "# 위 차트들을 통해 알게된 사실을 정리해봅시다.\n",
    "\n",
    "# 1. \n",
    "\n",
    "# 2. \n",
    "\n",
    "# 3. "
   ]
  },
  {
   "cell_type": "markdown",
   "id": "51bee3a4",
   "metadata": {
    "id": "51bee3a4"
   },
   "source": [
    "### 인사이트 도출\n",
    "* 데이터 분석 결과를 토대로 인사이트를 정리해보세요."
   ]
  },
  {
   "cell_type": "code",
   "execution_count": null,
   "id": "3f2a41b4",
   "metadata": {
    "id": "3f2a41b4"
   },
   "outputs": [],
   "source": [
    "#### [종합문제] 인사이트 도출\n",
    "# 1. (현상)                               -> (인사이트)\n",
    "# 2. (현상)                               -> (인사이트)\n",
    "# 3. (현상)                               -> (인사이트)"
   ]
  },
  {
   "cell_type": "code",
   "execution_count": null,
   "id": "49c4ba14",
   "metadata": {
    "id": "49c4ba14"
   },
   "outputs": [],
   "source": []
  }
 ],
 "metadata": {
  "colab": {
   "collapsed_sections": [],
   "provenance": []
  },
  "kernelspec": {
   "display_name": "Python 3 (ipykernel)",
   "language": "python",
   "name": "python3"
  },
  "language_info": {
   "codemirror_mode": {
    "name": "ipython",
    "version": 3
   },
   "file_extension": ".py",
   "mimetype": "text/x-python",
   "name": "python",
   "nbconvert_exporter": "python",
   "pygments_lexer": "ipython3",
   "version": "3.9.13"
  },
  "vscode": {
   "interpreter": {
    "hash": "f08154012ddadd8e950e6e9e035c7a7b32c136e7647e9b7c77e02eb723a8bedb"
   }
  }
 },
 "nbformat": 4,
 "nbformat_minor": 5
}
